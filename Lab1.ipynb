{
 "cells": [
  {
   "cell_type": "code",
   "execution_count": null,
   "id": "1f666f13",
   "metadata": {},
   "outputs": [],
   "source": [
    "'''\n",
    "1) Прочитайте главы 2-3 из книги \"Spark: The Definitive Guide\"\n",
    "2) Установите библиотеки numpy, pandas, matplotlib и seasborn.\n",
    "Для этого введите в консоли:\n",
    "\n",
    "source ~/Work/bin/activate\n",
    "pip3 install numpy\n",
    "pip3 install pandas\n",
    "pip3 install matplotlib\n",
    "pip3 install seaborn\n",
    "\n",
    "3) Скачайте датасет TikTok_songs_2022.csv по ссылке https://www.kaggle.com/datasets/sveta151/tiktok-popular-songs-2022\n",
    "4) Выполните задания 1-5 с помощью SQL и методов DataFrame.\n",
    "5) Ответьте на вопросы в задании 6.\n",
    "'''"
   ]
  },
  {
   "cell_type": "code",
   "execution_count": null,
   "id": "2d8dd2e6",
   "metadata": {},
   "outputs": [],
   "source": [
    "# Создаем SparkSession\n",
    "import pyspark\n",
    "from pyspark.sql import SparkSession\n",
    "spark = SparkSession.builder.master(\"local[1]\") \\\n",
    "                    .appName('SparkApp') \\\n",
    "                    .getOrCreate()"
   ]
  },
  {
   "cell_type": "code",
   "execution_count": null,
   "id": "eba28c69",
   "metadata": {},
   "outputs": [],
   "source": [
    "# Загружаем датасет https://www.kaggle.com/datasets/sveta151/tiktok-popular-songs-2022\n",
    "tiktokData2022 = spark\\\n",
    "  .read\\\n",
    "  .option(\"inferSchema\", \"true\")\\\n",
    "  .option(\"header\", \"true\")\\\n",
    "  .csv(\"path to csv file\")\n",
    "\n",
    "tiktokData2022.createOrReplaceTempView(\"TikTok_songs_2022\")"
   ]
  },
  {
   "cell_type": "code",
   "execution_count": null,
   "id": "b9174833",
   "metadata": {},
   "outputs": [],
   "source": [
    "# 0: Получите таблицу из  5 названий треков с их исполнителями.\n",
    "\n",
    "# +--------------------+-------------+\n",
    "# |          track_name|  artist_name|\n",
    "# +--------------------+-------------+\n",
    "# |Running Up That H...|    Kate Bush|\n",
    "# |           As It Was| Harry Styles|\n",
    "# |             Sunroof|  Nicky Youre|\n",
    "# |          Heat Waves|Glass Animals|\n",
    "# |     About Damn Time|        Lizzo|\n",
    "# +--------------------+-------------+\n",
    "\n",
    "from pyspark.sql.functions import desc\n",
    "\n",
    "sqlWay = spark.sql(\"\"\"\n",
    "SELECT track_name,artist_name\n",
    "FROM TikTok_songs_2022\n",
    "LIMIT 5\n",
    "\"\"\")\n",
    "\n",
    "dataFrameWay = tiktokData2022\\\n",
    "    .select(\n",
    "    \"track_name\",\n",
    "    \"artist_name\")\\\n",
    "    .limit(5)\n",
    "\n",
    "sqlWay.show()\n",
    "dataFrameWay.show()"
   ]
  },
  {
   "cell_type": "code",
   "execution_count": null,
   "id": "e482cbe8",
   "metadata": {},
   "outputs": [],
   "source": [
    "# 1: Получите список исполнителей с популярностью больше 90%\n",
    "\n",
    "# ['Drake', 'Harry Styles', 'The Weeknd']\n",
    "\n",
    "sqlWay = spark.sql(\"\"\"\n",
    "\n",
    "\"\"\")\n",
    "\n",
    "dataFrameWay = ...\n",
    "\n",
    "print(sqlWay.rdd.map(lambda x: x[0]).collect())\n",
    "print(dataFrameWay.rdd.map(lambda x: x[0]).collect())"
   ]
  },
  {
   "cell_type": "code",
   "execution_count": null,
   "id": "8632121b",
   "metadata": {},
   "outputs": [],
   "source": [
    "# 2: Выведите список исполнителей и количество их треков в порядке уменьшения.\n",
    "# Ограничьте выборку исполнителями, у которых не менее 3 треков в наборе данных.\n",
    "\n",
    "# +--------------+----------------+\n",
    "# |   artist_name|number_of_tracks|\n",
    "# +--------------+----------------+\n",
    "# |      Doja Cat|               8|\n",
    "# |        Coopex|               6|\n",
    "# |     Dame Dame|               5|\n",
    "# |     Lil Nas X|               4|\n",
    "# |Alex Alexander|               4|\n",
    "# |       YES YES|               4|\n",
    "# |         Farux|               4|\n",
    "# | Ariana Grande|               3|\n",
    "# |       Astelle|               3|\n",
    "# |  Alex D'Rosso|               3|\n",
    "# |      Dua Lipa|               3|\n",
    "# |    The Weeknd|               3|\n",
    "# |     Nito-Onna|               3|\n",
    "# |     Pop Smoke|               3|\n",
    "# | The Kid LAROI|               3|\n",
    "# +--------------+----------------+"
   ]
  },
  {
   "cell_type": "code",
   "execution_count": null,
   "id": "37852abe",
   "metadata": {},
   "outputs": [],
   "source": [
    "# 3: Выведите список названий треков, средняя громкость которых лежит в диапазоне от -10 до -9 Дб.\n",
    "\n",
    "# ['Glimpse of Us', 'Left and Right (Charlie Puth) [feat. Jung Kook of BTS] - Sped Up Version',\n",
    "# 'Frozen', \"Can't Get You Out of My Head\", 'I Hate U', 'I AM WOMAN', 'Buss It', 'Whatever You Like',\n",
    "# 'MONEY', 'Freaks', 'telepatía', 'Falling Down', 'Party Girl', 'Skechers', 'Good Looking']"
   ]
  },
  {
   "cell_type": "code",
   "execution_count": null,
   "id": "022ec28b",
   "metadata": {},
   "outputs": [],
   "source": [
    "#4: Выведите список треков, в названиях которых есть слово \"love\" (без учета регистра).\n",
    "\n",
    "# ['Another Love', 'love nwantiti (ah ah ah)', 'Tainted Love', 'Looking for Love', 'Free Falling Love',\n",
    "# 'Electric Love', 'Feel Your Love', 'What You Know Bout Love', 'Savage Love (Laxed - Siren Beat)',\n",
    "# 'Love Me Again', 'Lovely']"
   ]
  },
  {
   "cell_type": "code",
   "execution_count": null,
   "id": "faead8c1",
   "metadata": {
    "scrolled": false
   },
   "outputs": [],
   "source": [
    "#5: Получите таблицу из песен Арианы Гранде и Astelle. Отсортируйте их по примеру ниже.\n",
    "\n",
    "# +--------------------+-------------+\n",
    "# |          track_name|  artist_name|\n",
    "# +--------------------+-------------+\n",
    "# |               34+35|Ariana Grande|\n",
    "# |motive (with Doja...|Ariana Grande|\n",
    "# |           positions|Ariana Grande|\n",
    "# |             Dreamer|      Astelle|\n",
    "# |           K Boy Bye|      Astelle|\n",
    "# |                Paid|      Astelle|\n",
    "# +--------------------+-------------+"
   ]
  },
  {
   "cell_type": "code",
   "execution_count": null,
   "id": "fb78c3e9",
   "metadata": {
    "scrolled": true
   },
   "outputs": [],
   "source": [
    "#6: Какую задачу решает приведенный ниже код?\n",
    "# В чем суть метода K средних?\n",
    "# Какие еще существуют методы машинного обучения для решения данной задачи?\n",
    "# Какие выводы можно сделать о полученных группах?\n",
    "\n",
    "from pyspark.ml.feature import VectorAssembler\n",
    "from pyspark.ml.feature import StringIndexer\n",
    "from pyspark.ml import Pipeline\n",
    "from pyspark.ml.clustering import KMeans\n",
    "from pyspark.sql import Row\n",
    "from pyspark.ml.feature import MinMaxScaler\n",
    "from IPython.display import display\n",
    "import numpy as np\n",
    "\n",
    "k = 20\n",
    "\n",
    "np.set_printoptions(precision=3, suppress=True)\n",
    "\n",
    "columns_to_scale = [\"danceability\", \"energy\", \"speechiness\", \"acousticness\",\n",
    "                    \"instrumentalness\",\"liveness\", \"valence\", \"duration_ms\",\n",
    "                    \"tempo\", \"track_pop\"]\n",
    "assemblers = [VectorAssembler(inputCols = [col], outputCol = col + \"_vec\") for col in columns_to_scale]\n",
    "scalers = [MinMaxScaler(inputCol = col + \"_vec\", outputCol = col + \"_scaled\") for col in columns_to_scale]\n",
    "\n",
    "vectorAssembler = VectorAssembler()\\\n",
    "  .setInputCols([\"danceability_scaled\", \"energy_scaled\", \"speechiness_scaled\", \"acousticness_scaled\",\n",
    "                 \"instrumentalness_scaled\", \"liveness_scaled\", \"valence_scaled\", \"duration_ms_scaled\",\n",
    "                 \"tempo_scaled\", \"track_pop_scaled\"])\\\n",
    "  .setOutputCol(\"features\")\n",
    "\n",
    "transformationPipeline = Pipeline()\\\n",
    "  .setStages(assemblers + scalers + [vectorAssembler])\n",
    "\n",
    "fittedPipeline = transformationPipeline.fit(tiktokData2022)\n",
    "transformedDF = fittedPipeline.transform(tiktokData2022)\n",
    "\n",
    "kmeans = KMeans()\\\n",
    "  .setK(k)\\\n",
    "  .setSeed(300)\n",
    "\n",
    "kmModel = kmeans.fit(transformedDF)\n",
    "\n",
    "df_pred = kmModel.transform(transformedDF)\n",
    "\n",
    "centers = kmModel.clusterCenters()\n",
    "for i in range(0, k):\n",
    "    print(\"group \" + str(i))\n",
    "    print(centers[i])\n",
    "    df = df_pred.selectExpr(\"track_name\", \"danceability\", \"energy\", \"speechiness\",\n",
    "                        \"acousticness\",\"instrumentalness\",\"liveness\", \"valence\",\n",
    "                        \"duration_ms\", \"tempo\", \"track_pop\")\\\n",
    "        .where(\"prediction = \" + str(i))\\\n",
    "        .toPandas()\n",
    "    display(df)"
   ]
  },
  {
   "cell_type": "code",
   "execution_count": null,
   "id": "db389cae",
   "metadata": {},
   "outputs": [],
   "source": []
  }
 ],
 "metadata": {
  "kernelspec": {
   "display_name": "Python 3 (ipykernel)",
   "language": "python",
   "name": "python3"
  },
  "language_info": {
   "codemirror_mode": {
    "name": "ipython",
    "version": 3
   },
   "file_extension": ".py",
   "mimetype": "text/x-python",
   "name": "python",
   "nbconvert_exporter": "python",
   "pygments_lexer": "ipython3",
   "version": "3.10.4"
  }
 },
 "nbformat": 4,
 "nbformat_minor": 5
}
