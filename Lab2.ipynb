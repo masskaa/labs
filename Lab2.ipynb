{
 "cells": [
  {
   "cell_type": "code",
   "execution_count": 231,
   "id": "5cd11977",
   "metadata": {},
   "outputs": [],
   "source": [
    "from tokenize import Number\n",
    "import pyspark\n",
    "import pyspark.sql.functions\n",
    "from pyspark.sql.functions import desc\n",
    "from pyspark.sql.functions import col\n",
    "from pyspark.sql.functions import round\n",
    "from pyspark.sql.types import IntegerType\n",
    "from pyspark.sql.functions import regexp_extract\n",
    "from pyspark.sql.functions import regexp_replace\n",
    "from pyspark.sql import SparkSession\n",
    "from pyspark.sql.functions import split\n",
    "from pyspark.sql.functions import array_union\n",
    "from pyspark.sql.functions import array\n",
    "from pyspark.sql.functions import size\n",
    "from pyspark.sql.functions import when\n",
    "\n",
    "\n",
    "spark = SparkSession.builder.master(\"local[1]\") \\\n",
    "                    .appName('SparkLab2') \\\n",
    "                    .getOrCreate()\n",
    "\n",
    "tiktokData2022 = spark\\\n",
    "  .read\\\n",
    "  .option(\"inferSchema\", \"true\")\\\n",
    "  .option(\"header\", \"true\")\\\n",
    "  .csv(\"/home/student/Desktop/TikTok_songs_2022.csv\")\n",
    "\n",
    "tiktokData2022.createOrReplaceTempView(\"TikTok_songs_2022\")"
   ]
  },
  {
   "cell_type": "code",
   "execution_count": 279,
   "id": "7ffe7b95",
   "metadata": {},
   "outputs": [
    {
     "name": "stdout",
     "output_type": "stream",
     "text": [
      "+--------------------+--------------------+-------------------+--------+\n",
      "|          track_name|               album|        artist_name|loudness|\n",
      "+--------------------+--------------------+-------------------+--------+\n",
      "|          Astronomia|          Astronomia|           Vicetone|    55.0|\n",
      "|     Sweater Weather|         I Love You.|  The Neighbourhood|    52.0|\n",
      "|          Dandelions|          Safe Haven|            Ruth B.|    51.0|\n",
      "|1, 2, 3 (feat. Ja...|1, 2, 3 (feat. Ja...|        Sofía Reyes|    49.0|\n",
      "|   Beauty And A Beat|   Beauty And A Beat|             Glamii|    49.0|\n",
      "|Being Good Is Boring|Being Good Is Boring|          Jena Rose|    48.0|\n",
      "|Wellerman - Sea S...|Wellerman (Sea Sh...|       Nathan Evans|    47.0|\n",
      "|           Thot Shit|           Thot Shit|Megan Thee Stallion|    45.0|\n",
      "|Friday (feat. Muf...|Friday (feat. Muf...|              Riton|    45.0|\n",
      "|               Hawái|        PAPI JUANCHO|             Maluma|    45.0|\n",
      "+--------------------+--------------------+-------------------+--------+\n",
      "only showing top 10 rows\n",
      "\n"
     ]
    }
   ],
   "source": [
    "dataFrameWay = tiktokData2022\\\n",
    "  .select(\"track_name\",\"album\",\"artist_name\",round(10 ** (col(\"loudness\") * 0.1) * 100).alias(\"loudness\"))\\\n",
    "  .orderBy(desc(\"loudness\"))\\\n",
    "\n",
    "dataFrameWay.show(10)"
   ]
  },
  {
   "cell_type": "code",
   "execution_count": 281,
   "id": "3c29fc26",
   "metadata": {},
   "outputs": [
    {
     "name": "stdout",
     "output_type": "stream",
     "text": [
      "+--------------------+-----------------+--------------------+\n",
      "|         track_names|      artist_name|                feat|\n",
      "+--------------------+-----------------+--------------------+\n",
      "|      INDUSTRY BABY |        Lil Nas X|         Jack Harlow|\n",
      "|Left and Right (C...|sped up nightcore|    Jung Kook of BTS|\n",
      "|            Bam Bam |   Camila Cabello|          Ed Sheeran|\n",
      "|         Down Under |            Luude|           Colin Hay|\n",
      "|            1, 2, 3 |      Sofía Reyes|Jason Derulo & De...|\n",
      "|     Chaa Chaa Chaa |      Girll Codee|      HoodCelebrityy|\n",
      "|     Running To You |            VINAI|               Caden|\n",
      "|SAD GIRLZ LUV MON...|          Amaarae|Kali Uchis and Moliy|\n",
      "|            edamame |            bbno$|          Rich Brian|\n",
      "|       Kiss Me More |         Doja Cat|                 SZA|\n",
      "| Beautiful Mistakes |         Maroon 5| Megan Thee Stallion|\n",
      "|            Peaches |    Justin Bieber|Daniel Caesar & G...|\n",
      "|         Levitating |         Dua Lipa|              DaBaby|\n",
      "|            Bundles |     Kayla Nicole|        Taylor Girlz|\n",
      "|Friday  - Dopamin...|            Riton|    Mufasa & Hypeman|\n",
      "|               Mood |         24kGoldn|           iann dior|\n",
      "|        Best Friend |         Saweetie|            Doja Cat|\n",
      "|            Gravity |     Brent Faiyaz|  Tyler, The Creator|\n",
      "|                WAP |          Cardi B| Megan Thee Stallion|\n",
      "|           ROCKSTAR |           DaBaby|         Roddy Ricch|\n",
      "|              Rover |            S1mba|                 DTG|\n",
      "|        Mood Swings |        Pop Smoke|            Lil Tjay|\n",
      "|      For The Night |        Pop Smoke|   Lil Baby & DaBaby|\n",
      "|                TKN |          ROSALÍA|        Travis Scott|\n",
      "|Banana  - DJ FLe ...|         Conkarah|              Shaggy|\n",
      "|    FLIP THE SWITCH |            Quavo|               Drake|\n",
      "|         Don't Rush | Young T & Bugsey|          Headie One|\n",
      "|         Intentions |    Justin Bieber|               Quavo|\n",
      "|       Life Is Good |           Future|               Drake|\n",
      "|           OUT WEST |         JACKBOYS|          Young Thug|\n",
      "|Girls Like You  -...|         Maroon 5|             Cardi B|\n",
      "|        Jimmy Cooks |            Drake|           21 Savage|\n",
      "+--------------------+-----------------+--------------------+\n",
      "\n"
     ]
    }
   ],
   "source": [
    "dataFrameWay1 = tiktokData2022\\\n",
    "  .select(regexp_replace('track_name', '[(\\[]feat. [^)]*[\\)]', \"\").alias('track_names'), 'artist_name' ,regexp_replace('track_name', '(([^\\$]*)feat. )', \"\").alias('feat'))\\\n",
    "  .select('track_names', 'artist_name',regexp_replace('feat', '([\\]\\)])+([^\\$]*)', \"\").alias('feat'))\\\n",
    "  .where(col(\"track_name\").like(\"%feat.%\"))\n",
    "\n",
    "dataFrameWay1.show(1000)"
   ]
  },
  {
   "cell_type": "code",
   "execution_count": 276,
   "id": "9a2391d4",
   "metadata": {},
   "outputs": [
    {
     "name": "stdout",
     "output_type": "stream",
     "text": [
      "+--------------------+--------------------+\n",
      "|         track_names|        artists_name|\n",
      "+--------------------+--------------------+\n",
      "|            1, 2, 3 |[Sofía Reyes, Jas...|\n",
      "|         Don't Rush |[Young T ,  Bugse...|\n",
      "|      For The Night |[Pop Smoke, Lil B...|\n",
      "|Friday  - Dopamin...|[Riton, Mufasa , ...|\n",
      "|            Peaches |[Justin Bieber, D...|\n",
      "|            Bam Bam |[Camila Cabello, ...|\n",
      "|Banana  - DJ FLe ...|  [Conkarah, Shaggy]|\n",
      "| Beautiful Mistakes |[Maroon 5, Megan ...|\n",
      "|        Best Friend |[Saweetie, Doja Cat]|\n",
      "|            Bundles |[Kayla Nicole, Ta...|\n",
      "|     Chaa Chaa Chaa |[Girll Codee, Hoo...|\n",
      "|         Down Under |  [Luude, Colin Hay]|\n",
      "|    FLIP THE SWITCH |      [Quavo, Drake]|\n",
      "|Girls Like You  -...| [Maroon 5, Cardi B]|\n",
      "|            Gravity |[Brent Faiyaz, Ty...|\n",
      "|      INDUSTRY BABY |[Lil Nas X, Jack ...|\n",
      "|         Intentions |[Justin Bieber, Q...|\n",
      "|        Jimmy Cooks |  [Drake, 21 Savage]|\n",
      "|       Kiss Me More |     [Doja Cat, SZA]|\n",
      "|Left and Right (C...|[sped up nightcor...|\n",
      "|         Levitating |  [Dua Lipa, DaBaby]|\n",
      "|       Life Is Good |     [Future, Drake]|\n",
      "|               Mood |[24kGoldn, iann d...|\n",
      "|        Mood Swings |[Pop Smoke, Lil T...|\n",
      "|           OUT WEST |[JACKBOYS, Young ...|\n",
      "|           ROCKSTAR |[DaBaby, Roddy Ri...|\n",
      "|              Rover |        [S1mba, DTG]|\n",
      "|     Running To You |      [VINAI, Caden]|\n",
      "|SAD GIRLZ LUV MON...|[Amaarae, Kali Uc...|\n",
      "|                TKN |[ROSALÍA, Travis ...|\n",
      "|                WAP |[Cardi B, Megan T...|\n",
      "|            edamame | [bbno$, Rich Brian]|\n",
      "+--------------------+--------------------+\n",
      "\n"
     ]
    }
   ],
   "source": [
    "dataFrameWay2 = tiktokData2022\\\n",
    "\n",
    "dataFrameWay2 = dataFrameWay1.select('track_names', array_union(split('artist_name', '&'), split('feat', '&')).alias('artists_name')) \\\n",
    "  .orderBy(desc(size('artists_name')), 'track_names')\\\n",
    "  \n",
    "dataFrameWay2.show(1000)"
   ]
  },
  {
   "cell_type": "code",
   "execution_count": 575,
   "id": "dba185bc",
   "metadata": {},
   "outputs": [
    {
     "name": "stdout",
     "output_type": "stream",
     "text": [
      "+-------------+--------------------+--------------------+--------+\n",
      "|  track_names|               album|        artists_name| artists|\n",
      "+-------------+--------------------+--------------------+--------+\n",
      "|        Woman|          Planet Her|   [Doja Cat, Woman]|Doja Cat|\n",
      "|Kiss Me More |Kiss Me More (fea...|     [Doja Cat, SZA]|Doja Cat|\n",
      "| Need to Know|          Planet Her|[Doja Cat, Need t...|Doja Cat|\n",
      "|   Ain't Shit|          Planet Her|[Doja Cat, Ain't ...|Doja Cat|\n",
      "|    You Right|          Planet Her|[Doja Cat, You Ri...|Doja Cat|\n",
      "| Best Friend |Best Friend (feat...|[Saweetie, Doja Cat]|Doja Cat|\n",
      "+-------------+--------------------+--------------------+--------+\n",
      "only showing top 6 rows\n",
      "\n"
     ]
    }
   ],
   "source": [
    "from pyspark.sql.functions import explode\n",
    "\n",
    "dataFrameWay3 = tiktokData2022\\\n",
    ".select('album', 'track_pop', 'artist_pop',regexp_replace( 'track_name', '[(\\[]feat. [^)]*[\\)]', \"\").alias('track_names'), 'artist_name' ,regexp_replace('track_name', '(([^\\$]*)feat. )', \"\").alias('feat'))\\\n",
    ".select('track_names','track_pop','artist_pop','album','artist_name',regexp_replace('feat', '([\\]\\)])+([^\\$]*)', \"\").alias('feat'))\\\n",
    ".select('track_names','track_pop','artist_pop','album','artist_name',array_union(split('artist_name', '&'), split('feat', '&')).alias('artists_name'))\n",
    "\n",
    "dataFrameWay3\n",
    "\n",
    "dataFrameWay4 = tiktokData2022\\\n",
    "\n",
    "dataFrameWay4 = dataFrameWay3.select('track_names',\"album\",'artists_name',explode('artists_name').alias('artists'))\\\n",
    ".where(col('artists').like('%Doja Cat%'))\n",
    "\n",
    "dataFrameWay4.show(6)"
   ]
  },
  {
   "cell_type": "code",
   "execution_count": 353,
   "id": "5a959696",
   "metadata": {
    "scrolled": true
   },
   "outputs": [
    {
     "name": "stdout",
     "output_type": "stream",
     "text": [
      "+-------------------+-----+\n",
      "|            artists|count|\n",
      "+-------------------+-----+\n",
      "|           Doja Cat|    9|\n",
      "|             Coopex|    6|\n",
      "|          Dame Dame|    5|\n",
      "|Megan Thee Stallion|    4|\n",
      "|            YES YES|    4|\n",
      "|          Lil Nas X|    4|\n",
      "+-------------------+-----+\n",
      "only showing top 6 rows\n",
      "\n"
     ]
    }
   ],
   "source": [
    "from pyspark.sql.functions import explode\n",
    "\n",
    "dataFrameWay5 = tiktokData2022\\\n",
    "\n",
    "dataFrameWay5 = dataFrameWay3.select(explode('artists_name').alias('artists'))\\\n",
    ".groupBy(\"artists\")\\\n",
    ".agg(count(\"artists\").alias(\"count\"))\\\n",
    ".sort(desc(\"count\"))\n",
    "\n",
    "dataFrameWay5.show(6)"
   ]
  },
  {
   "cell_type": "code",
   "execution_count": 600,
   "id": "238f4ea7",
   "metadata": {},
   "outputs": [
    {
     "name": "stdout",
     "output_type": "stream",
     "text": [
      "+--------------------+--------------------+----------+\n",
      "|         track_names|        artists_name|track_pops|\n",
      "+--------------------+--------------------+----------+\n",
      "|            Peaches |[Justin Bieber, D...|        86|\n",
      "|Friday  - Dopamin...|[Riton, Mufasa , ...|        83|\n",
      "|            1, 2, 3 |[Sofía Reyes, Jas...|        82|\n",
      "|       Jiggle Jiggle|[Duke ,  Jones, J...|        81|\n",
      "|      For The Night |[Pop Smoke, Lil B...|        80|\n",
      "|         Don't Rush |[Young T ,  Bugse...|        63|\n",
      "|         Wild & Free|[Nander, Wild ,  ...|     other|\n",
      "|             We Know|[JAM ,  Philly, W...|     other|\n",
      "|       Fever - Remix|[XY, O, Fever - R...|     other|\n",
      "|    Looking for Love|[Asketa ,  Natan ...|     other|\n",
      "+--------------------+--------------------+----------+\n",
      "only showing top 10 rows\n",
      "\n"
     ]
    }
   ],
   "source": [
    "\n",
    "dataFrameWay6 = dataFrameWay3\\\n",
    "\n",
    "dataFrameWay6 = dataFrameWay3.select('track_names','artists_name','track_pop')\\\n",
    ".where('track_pop >= 50')\\\n",
    ".withColumn('track_pops', col('track_pop'))\n",
    "\n",
    "dataFrameWay7 = dataFrameWay3.select('track_names','artists_name','track_pop')\\\n",
    ".where('track_pop < 50')\\\n",
    ".withColumn('track_pops', when(col('track_pop') < 50 , 'other'))\n",
    "\n",
    "df67 = dataFrameWay6.unionByName(dataFrameWay7)\n",
    "\n",
    "df67.sort(desc(size('artists_name')), desc('track_pop')).select('track_names','artists_name','track_pops').show(10)\n"
   ]
  },
  {
   "cell_type": "code",
   "execution_count": null,
   "id": "689a49b0",
   "metadata": {},
   "outputs": [],
   "source": []
  },
  {
   "cell_type": "code",
   "execution_count": null,
   "id": "220a1c58",
   "metadata": {},
   "outputs": [],
   "source": []
  }
 ],
 "metadata": {
  "kernelspec": {
   "display_name": "Python 3 (ipykernel)",
   "language": "python",
   "name": "python3"
  },
  "language_info": {
   "codemirror_mode": {
    "name": "ipython",
    "version": 3
   },
   "file_extension": ".py",
   "mimetype": "text/x-python",
   "name": "python",
   "nbconvert_exporter": "python",
   "pygments_lexer": "ipython3",
   "version": "3.10.4"
  }
 },
 "nbformat": 4,
 "nbformat_minor": 5
}
