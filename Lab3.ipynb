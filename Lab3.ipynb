{
 "cells": [
  {
   "cell_type": "code",
   "execution_count": 366,
   "id": "0be2178c",
   "metadata": {},
   "outputs": [],
   "source": [
    "from tokenize import Number\n",
    "import pyspark\n",
    "import pyspark.sql.functions\n",
    "from pyspark.sql.functions import round\n",
    "from pyspark.sql.functions import regexp_replace\n",
    "from pyspark.sql import SparkSession\n",
    "from pyspark.sql.functions import split\n",
    "from pyspark.sql.functions import array_union\n",
    "from pyspark.sql.functions import array\n",
    "from pyspark.sql.functions import size\n",
    "from pyspark.sql.functions import when\n",
    "\n",
    "\n",
    "spark = SparkSession.builder.master(\"local[1]\") \\\n",
    "                    .appName('SparkLab2') \\\n",
    "                    .getOrCreate()\n",
    "\n",
    "tiktokData2019 = spark\\\n",
    "  .read\\\n",
    "  .option(\"inferSchema\", \"true\")\\\n",
    "  .option(\"header\", \"true\")\\\n",
    "  .csv(\"/home/student/Desktop/TikTok_songs_2019.csv\")\n",
    "tiktokData2020 = spark\\\n",
    "  .read\\\n",
    "  .option(\"inferSchema\", \"true\")\\\n",
    "  .option(\"header\", \"true\")\\\n",
    "  .csv(\"/home/student/Desktop/TikTok_songs_2020.csv\")\n",
    "tiktokData2021 = spark\\\n",
    "  .read\\\n",
    "  .option(\"inferSchema\", \"true\")\\\n",
    "  .option(\"header\", \"true\")\\\n",
    "  .csv(\"/home/student/Desktop/TikTok_songs_2021.csv\")\n",
    "tiktokData2022 = spark\\\n",
    "  .read\\\n",
    "  .option(\"inferSchema\", \"true\")\\\n",
    "  .option(\"header\", \"true\")\\\n",
    "  .csv(\"/home/student/Desktop/TikTok_songs_2022.csv\")"
   ]
  },
  {
   "cell_type": "code",
   "execution_count": 367,
   "id": "2ab8f7dc",
   "metadata": {},
   "outputs": [
    {
     "name": "stdout",
     "output_type": "stream",
     "text": [
      "+--------------------+-----------+----+------------+\n",
      "|          track_name|artist_name|year|danceability|\n",
      "+--------------------+-----------+----+------------+\n",
      "|  Dancing in My Room|   347aidan|2020|        0.98|\n",
      "|                 Uno|    Ambjaay|2019|       0.978|\n",
      "|I'm Looking for M...|   Memetown|2020|       0.977|\n",
      "|           Hood Baby|       KBFR|2020|       0.974|\n",
      "|              MICKEY| Lil Yachty|2019|       0.971|\n",
      "|Muffins In The Fr...|      Tiagz|2020|       0.965|\n",
      "+--------------------+-----------+----+------------+\n",
      "only showing top 6 rows\n",
      "\n"
     ]
    }
   ],
   "source": [
    "from pyspark.sql.functions import input_file_name\n",
    "from pyspark.sql.functions import regexp_extract\n",
    "from pyspark.sql.types import IntegerType\n",
    "from pyspark.sql.functions import desc\n",
    "from pyspark.sql.functions import lit\n",
    "\n",
    "df19 = tiktokData2019\\\n",
    ".select('artist_pop','track_pop','track_name', 'artist_name', 'danceability', 'album', 'energy', 'speechiness', 'acousticness', 'instrumentalness', 'liveness', 'valence')\\\n",
    ".withColumn('year', lit(2019))\n",
    "\n",
    "df20 = tiktokData2020\\\n",
    ".select('artist_pop','track_pop','track_name', 'artist_name', 'danceability', 'album', 'energy', 'speechiness', 'acousticness', 'instrumentalness', 'liveness', 'valence')\\\n",
    ".withColumn('year', lit(2020))\n",
    "\n",
    "df21 = tiktokData2021\\\n",
    ".select('artist_pop','track_pop','track_name', 'artist_name', 'danceability', 'album', 'energy', 'speechiness', 'acousticness', 'instrumentalness', 'liveness', 'valence')\\\n",
    ".withColumn('year', lit(2021))\n",
    "\n",
    "df22 = tiktokData2022\\\n",
    ".select('artist_pop','track_pop','track_name', 'artist_name', 'danceability', 'album', 'energy', 'speechiness', 'acousticness', 'instrumentalness', 'liveness', 'valence')\\\n",
    ".withColumn('year', lit(2022))\n",
    "\n",
    "df = df19.unionByName(df20).unionByName(df21).unionByName(df22)\n",
    "\n",
    "df.select('artist_pop','track_pop','track_name', 'artist_name', 'danceability', 'album', 'energy', 'speechiness', 'acousticness', 'instrumentalness', 'liveness', 'valence', 'year')\n",
    "\n",
    "tiktokData = df.sort(desc(\"danceability\")).select(\"track_name\", \"artist_name\", \"year\", \"danceability\").show(6)\n"
   ]
  },
  {
   "cell_type": "code",
   "execution_count": 368,
   "id": "542e49d8",
   "metadata": {
    "scrolled": true
   },
   "outputs": [
    {
     "name": "stdout",
     "output_type": "stream",
     "text": [
      "+-------------+---------------+---------------+----------+-----+\n",
      "|  artist_name|     track_name|          album|popularity|other|\n",
      "+-------------+---------------+---------------+----------+-----+\n",
      "|    Kesh Kesh|         Vibin'|         Vibin'|  [27, 26]|    2|\n",
      "| Mahogany Lox|  Take Your Man|  Take Your Man|  [37, 38]|    2|\n",
      "|Trevor Daniel|        Falling|        Falling|  [66, 65]|    2|\n",
      "|    blackbear|hot girl bummer|hot girl bummer|  [79, 80]|    2|\n",
      "+-------------+---------------+---------------+----------+-----+\n",
      "\n"
     ]
    }
   ],
   "source": [
    "from pyspark.sql.functions import col\n",
    "from pyspark.sql.functions import collect_list\n",
    "from pyspark.sql.functions import collect_set\n",
    "from pyspark.sql.functions import count\n",
    "\n",
    "df1 = df\\\n",
    "\n",
    "df1 = df.select('artist_name',\"artist_pop\",'track_name', 'album')\\\n",
    ".groupBy('artist_name','track_name', 'album')\\\n",
    ".agg(collect_set(\"artist_pop\").alias('popularity'))\\\n",
    ".withColumn(\"other\", size(\"popularity\"))\\\n",
    ".where(\"other > 1\")\n",
    "\n",
    "\n",
    "df1.show()"
   ]
  },
  {
   "cell_type": "code",
   "execution_count": 369,
   "id": "8e511b6c",
   "metadata": {},
   "outputs": [
    {
     "name": "stdout",
     "output_type": "stream",
     "text": [
      "+----------+-------------+--------+----------+\n",
      "|track_name|  artist_name|   album|artist_pop|\n",
      "+----------+-------------+--------+----------+\n",
      "|   Falling|Trevor Daniel|Nicotine|        66|\n",
      "+----------+-------------+--------+----------+\n",
      "\n"
     ]
    },
    {
     "data": {
      "text/plain": [
       "14"
      ]
     },
     "execution_count": 369,
     "metadata": {},
     "output_type": "execute_result"
    }
   ],
   "source": [
    "from pyspark.sql.functions import array_max\n",
    "from pyspark.sql.functions import when\n",
    "\n",
    "df3 = df\\\n",
    "\n",
    "df2 = df1.select(col(\"track_name\").alias(\"track_name1\"), col(\"album\").alias(\"album1\"), 'artist_name', array_max(\"popularity\").alias('artist_pop'))\n",
    "\n",
    "df4 = df3.select(\"track_name\", \"artist_name\", \"album\", \"artist_pop\")\n",
    "df3 = df3.select(\"track_name\", col(\"artist_name\").alias(\"artist_name1\"), \"album\", col(\"artist_pop\").alias(\"artist_pop1\"))\n",
    "\n",
    "df3 = df3.join(df2, df3.artist_name1 == df2.artist_name, \"right\")\\\n",
    ".select(\"track_name\", \"artist_name\", \"album\", \"artist_pop\")\\\n",
    "\n",
    "\n",
    "substractDf = df3\\\n",
    "    .subtract(df4)\\\n",
    "    .select(\"track_name\", \"artist_name\", \"album\", \"artist_pop\")\\\n",
    "    .sort(desc(\"artist_pop\"))\n",
    "\n",
    "substractDf.show(6)\n",
    "df3.count()"
   ]
  },
  {
   "cell_type": "code",
   "execution_count": 370,
   "id": "b80165f0",
   "metadata": {},
   "outputs": [
    {
     "name": "stderr",
     "output_type": "stream",
     "text": [
      "                                                                                \r"
     ]
    },
    {
     "data": {
      "text/plain": [
       "853"
      ]
     },
     "execution_count": 370,
     "metadata": {},
     "output_type": "execute_result"
    }
   ],
   "source": [
    "from pyspark.sql.functions import expr\n",
    "from pyspark.sql.functions import max\n",
    "from pyspark.sql.functions import avg\n",
    "from pyspark.sql.functions import size\n",
    "from pyspark.sql.functions import sort_array\n",
    "\n",
    "df3 = df\\\n",
    "\n",
    "df3 = df.select('artist_pop','track_pop','track_name', 'album', 'artist_name', 'danceability', 'energy', 'speechiness', 'acousticness', 'instrumentalness', 'liveness', 'valence', 'year')\\\n",
    ".groupBy('track_name','album' , 'artist_name', 'artist_pop')\\\n",
    ".agg(collect_list(\"year\").alias('years'),\n",
    "     max('track_pop').alias('max_track_pop'),\n",
    "     avg('danceability').alias('avg_danceability'),\n",
    "     avg('energy').alias('avg_energy'),\n",
    "     avg('speechiness').alias('avg_speechiness'),\n",
    "     avg('acousticness').alias('avg_acousticness'),\n",
    "     avg('instrumentalness').alias('avg_instrumentalness'),\n",
    "     avg('liveness').alias('avg_liveness'),\n",
    "     avg('valence').alias('avg_valence'))\\\n",
    "\n",
    "df3.write.format(\"parquet\").mode(\"overwrite\").save(\"full_document\")\n",
    "df3.count()"
   ]
  },
  {
   "cell_type": "code",
   "execution_count": 371,
   "id": "be72bfa2",
   "metadata": {},
   "outputs": [
    {
     "name": "stdout",
     "output_type": "stream",
     "text": [
      "+----------------+--------------------+--------------------+---------+--------------------+\n",
      "|     artist_name|               album|          track_name|track_pop|               years|\n",
      "+----------------+--------------------+--------------------+---------+--------------------+\n",
      "|        Doja Cat|            Hot Pink|              Say So|       80|[2020, 2021, 2022...|\n",
      "|          WILLOW|        ARDIPITHECUS|      Wait a Minute!|       86|  [2020, 2022, 2019]|\n",
      "|           BØRNS|            Dopamine|       Electric Love|       82|  [2020, 2021, 2022]|\n",
      "|Melanie Martinez|Cry Baby (Deluxe ...|           Play Date|       78|  [2020, 2021, 2022]|\n",
      "|  Arizona Zervas|             ROXANNE|             ROXANNE|       78|  [2019, 2020, 2022]|\n",
      "|       Jawsh 685|Savage Love (Laxe...|Savage Love (Laxe...|       77|  [2020, 2021, 2022]|\n",
      "+----------------+--------------------+--------------------+---------+--------------------+\n",
      "only showing top 6 rows\n",
      "\n"
     ]
    }
   ],
   "source": [
    "df4 = df\\\n",
    "\n",
    "df4 = df.select('track_name', 'album' ,'artist_name','track_pop', 'year')\\\n",
    ".groupBy('artist_name','album','track_name','track_pop')\\\n",
    ".agg(collect_list(\"year\").alias('years'))\\\n",
    ".sort(desc(size(\"years\")), desc('track_pop'))\n",
    "\n",
    "df4.show(6)\n"
   ]
  },
  {
   "cell_type": "code",
   "execution_count": 372,
   "id": "e0c12396",
   "metadata": {},
   "outputs": [
    {
     "name": "stderr",
     "output_type": "stream",
     "text": [
      "                                                                                \r"
     ]
    },
    {
     "name": "stdout",
     "output_type": "stream",
     "text": [
      "+--------------------+--------------------+--------------------+------------------+\n",
      "|         track_names|              albums|        artist_names|             years|\n",
      "+--------------------+--------------------+--------------------+------------------+\n",
      "|[\"More Than A Wom...|[Greatest, How Ca...|[Bee Gees, Bee Gees]|      [2020, 2022]|\n",
      "|[223's (feat. 9lo...|[223's (feat. 9lo...|[YNW Melly, YNW M...|      [2020, 2019]|\n",
      "|      [34+35, 34+35]|[Positions, Posit...|[Ariana Grande, A...|      [2021, 2022]|\n",
      "|[Aesthetic, Aesth...|[Aesthetic, Aesth...|        [Xilo, Xilo]|      [2020, 2022]|\n",
      "|[Airplane Mode, A...|        [Holo, Holo]|      [Limbo, Limbo]|      [2020, 2019]|\n",
      "|[American Boy, Am...|      [Shine, Shine]|  [Estelle, Estelle]|      [2019, 2020]|\n",
      "|[Another Day Of S...|[La La Land (Orig...|[La La Land Cast,...|      [2019, 2020]|\n",
      "|[As It Was, As It...|[As It Was, As It...|[Michael Shynes, ...|      [2022, 2022]|\n",
      "|[Astronaut In The...|[Astronaut In The...|[Masked Wolf, Mas...|      [2021, 2022]|\n",
      "|[Baby I'm Yours, ...|[By Your Side, By...|[Breakbot, Breakb...|[2020, 2022, 2019]|\n",
      "|[Backyard Boy, Ba...|[Backyard Boy (St...|[Claire Rosinkran...|      [2020, 2022]|\n",
      "|[Bad Habits, Bad ...|[Bad Habits, Bad ...|[Ed Sheeran, Ed S...|      [2021, 2022]|\n",
      "|[Banana (feat. Sh...|[Banana (feat. Sh...|[Conkarah, Conkarah]|      [2020, 2022]|\n",
      "|[Be Kind (with Ha...|[Be Kind (with Ha...|[Marshmello, Mars...|      [2021, 2022]|\n",
      "|[Because Of You, ...|[Because Of You, ...|      [Ne-Yo, Ne-Yo]|      [2020, 2021]|\n",
      "|      [Becky, Becky]|[Champion Status,...|[Championxiii, Ch...|      [2020, 2019]|\n",
      "|[Beef FloMix, Bee...|[Ho, why is you h...|[Flo Milli, Flo M...|      [2020, 2019]|\n",
      "|[Beggin', Beggin'...|[Conquest, Chosen...|[Madcon, Måneskin...|[2020, 2021, 2022]|\n",
      "|[Blinding Lights,...|[After Hours, Bli...|[The Weeknd, The ...|[2020, 2022, 2022]|\n",
      "|[Blueberry Faygo,...|[Certified Hitmak...|[Lil Mosey, Lil M...|      [2020, 2022]|\n",
      "+--------------------+--------------------+--------------------+------------------+\n",
      "only showing top 20 rows\n",
      "\n"
     ]
    },
    {
     "name": "stderr",
     "output_type": "stream",
     "text": [
      "                                                                                \r"
     ]
    },
    {
     "data": {
      "text/plain": [
       "145"
      ]
     },
     "execution_count": 372,
     "metadata": {},
     "output_type": "execute_result"
    }
   ],
   "source": [
    "df6 = df\\\n",
    "\n",
    "df6 = df.select(\"track_name\", 'album' ,'artist_name','year')\\\n",
    ".groupBy(\"track_name\")\\\n",
    ".agg(collect_list(\"track_name\").alias('track_names'),\n",
    "     collect_list(\"album\").alias('albums'),\n",
    "     collect_list('artist_name').alias('artist_names'),\n",
    "    collect_list('year').alias('years'))\\\n",
    ".where(count(\"track_name\") > 1)\\\n",
    ".select(\"track_names\", 'albums' ,'artist_names','years')\n",
    "\n",
    "df6.show()\n",
    "df6.count()\n"
   ]
  },
  {
   "cell_type": "code",
   "execution_count": 320,
   "id": "2ea4a208",
   "metadata": {},
   "outputs": [
    {
     "name": "stdout",
     "output_type": "stream",
     "text": [
      "+--------------------+--------------------+--------------------+------------------+\n",
      "|         track_names|              albums|        artist_names|             years|\n",
      "+--------------------+--------------------+--------------------+------------------+\n",
      "|[\"More Than A Wom...|[Greatest, How Ca...|[Bee Gees, Bee Gees]|      [2020, 2022]|\n",
      "|[223's (feat. 9lo...|[223's (feat. 9lo...|[YNW Melly, YNW M...|      [2020, 2019]|\n",
      "|      [34+35, 34+35]|[Positions, Posit...|[Ariana Grande, A...|      [2021, 2022]|\n",
      "|[Aesthetic, Aesth...|[Aesthetic, Aesth...|        [Xilo, Xilo]|      [2020, 2022]|\n",
      "|[Airplane Mode, A...|        [Holo, Holo]|      [Limbo, Limbo]|      [2020, 2019]|\n",
      "|[American Boy, Am...|      [Shine, Shine]|  [Estelle, Estelle]|      [2019, 2020]|\n",
      "|[Another Day Of S...|[La La Land (Orig...|[La La Land Cast,...|      [2019, 2020]|\n",
      "|[As It Was, As It...|[As It Was, As It...|[Michael Shynes, ...|      [2022, 2022]|\n",
      "|[Astronaut In The...|[Astronaut In The...|[Masked Wolf, Mas...|      [2021, 2022]|\n",
      "|[Baby I'm Yours, ...|[By Your Side, By...|[Breakbot, Breakb...|[2020, 2022, 2019]|\n",
      "|[Backyard Boy, Ba...|[Backyard Boy (St...|[Claire Rosinkran...|      [2020, 2022]|\n",
      "|[Bad Habits, Bad ...|[Bad Habits, Bad ...|[Ed Sheeran, Ed S...|      [2021, 2022]|\n",
      "|[Banana (feat. Sh...|[Banana (feat. Sh...|[Conkarah, Conkarah]|      [2020, 2022]|\n",
      "|[Be Kind (with Ha...|[Be Kind (with Ha...|[Marshmello, Mars...|      [2021, 2022]|\n",
      "|[Because Of You, ...|[Because Of You, ...|      [Ne-Yo, Ne-Yo]|      [2020, 2021]|\n",
      "|      [Becky, Becky]|[Champion Status,...|[Championxiii, Ch...|      [2020, 2019]|\n",
      "|[Beef FloMix, Bee...|[Ho, why is you h...|[Flo Milli, Flo M...|      [2020, 2019]|\n",
      "|[Beggin', Beggin'...|[Conquest, Chosen...|[Madcon, Måneskin...|[2020, 2021, 2022]|\n",
      "|[Blinding Lights,...|[After Hours, Bli...|[The Weeknd, The ...|[2020, 2022, 2022]|\n",
      "|[Blueberry Faygo,...|[Certified Hitmak...|[Lil Mosey, Lil M...|      [2020, 2022]|\n",
      "+--------------------+--------------------+--------------------+------------------+\n",
      "only showing top 20 rows\n",
      "\n"
     ]
    },
    {
     "data": {
      "text/plain": [
       "145"
      ]
     },
     "execution_count": 320,
     "metadata": {},
     "output_type": "execute_result"
    }
   ],
   "source": []
  },
  {
   "cell_type": "code",
   "execution_count": null,
   "id": "b072ae80",
   "metadata": {},
   "outputs": [],
   "source": []
  }
 ],
 "metadata": {
  "kernelspec": {
   "display_name": "Python 3 (ipykernel)",
   "language": "python",
   "name": "python3"
  },
  "language_info": {
   "codemirror_mode": {
    "name": "ipython",
    "version": 3
   },
   "file_extension": ".py",
   "mimetype": "text/x-python",
   "name": "python",
   "nbconvert_exporter": "python",
   "pygments_lexer": "ipython3",
   "version": "3.10.6"
  }
 },
 "nbformat": 4,
 "nbformat_minor": 5
}
